{
 "cells": [
  {
   "cell_type": "code",
   "execution_count": 50,
   "metadata": {},
   "outputs": [
    {
     "name": "stdout",
     "output_type": "stream",
     "text": [
      "[0.785 0.795 0.775 0.76  0.77  0.785 0.84  0.785 0.8   0.825]\n",
      "[0.79  0.83  0.825 0.81  0.83  0.805 0.84  0.835 0.795 0.86 ]\n"
     ]
    }
   ],
   "source": [
    "import sklearn\n",
    "import glob\n",
    "from sklearn.feature_extraction.text import CountVectorizer\n",
    "from sklearn.naive_bayes import BernoulliNB,MultinomialNB\n",
    "from sklearn.model_selection import cross_val_score\n",
    "import sys\n",
    "import errno\n",
    "import re\n",
    "import numpy as np\n",
    "from collections import defaultdict\n",
    "from decimal import *\n",
    "getcontext().prec = 6\n",
    "import matplotlib.pyplot as plt\n",
    "import nltk # needed for Naive-Bayes\n",
    "import numpy as np\n",
    "from sklearn.model_selection import KFold\n",
    "\n",
    "# function to load files\n",
    "data = [] \n",
    "data_labels = []\n",
    "def load_file(path,polarity):\n",
    "    \n",
    "    # call the function to calculate feature_vector \n",
    "    # counter\n",
    "    counter = 0\n",
    "    # file contents\n",
    "    file_contents = []\n",
    "    # construct the path on the basis of polarity\n",
    "    path = path+polarity+'/*.txt'\n",
    "    # make the file object\n",
    "    files = glob.glob(path) \n",
    "    files.sort()\n",
    "    # for each file call the file and read its contents\n",
    "    for name in files: # 'file' is a builtin type, 'name' is a less-ambiguous variable name.\n",
    "        if counter < 1000 :\n",
    "            try:\n",
    "                with open(name) as f: # f is the file object\n",
    "                    file_contents = f.read()\n",
    "                    data.append(file_contents)\n",
    "                    if polarity == 'pos':\n",
    "                        data_labels.append(1)\n",
    "                    else:\n",
    "                        data_labels.append(0)\n",
    "\n",
    "                    counter = counter + 1\n",
    "            except IOError as exc:\n",
    "                if exc.errno != errno.EISDIR: \n",
    "                    raise \n",
    "\n",
    "# loading the data and data_label array for both data types\n",
    "load_file(path='/Users/jagjitsingh/Desktop/Summer 2018/AI/Assignment 2/review_polarity/files/',polarity='pos')\n",
    "load_file(path='/Users/jagjitsingh/Desktop/Summer 2018/AI/Assignment 2/review_polarity/files/',polarity='neg')\n",
    "\n",
    "# counting the feature vector\n",
    "cv = CountVectorizer(binary=True)\n",
    "cv_fit=cv.fit_transform(data)\n",
    "type(cv_fit)\n",
    "clf = BernoulliNB()\n",
    "scores=cross_val_score(clf,cv_fit,data_labels,cv=10)\n",
    "print scores\n",
    "\n",
    "mclf = MultinomialNB()\n",
    "scores=cross_val_score(mclf,cv_fit,data_labels,cv=10)\n",
    "print scores\n",
    "\n",
    "\n",
    "        \n"
   ]
  },
  {
   "cell_type": "code",
   "execution_count": null,
   "metadata": {},
   "outputs": [],
   "source": []
  }
 ],
 "metadata": {
  "kernelspec": {
   "display_name": "Python 2",
   "language": "python",
   "name": "python2"
  },
  "language_info": {
   "codemirror_mode": {
    "name": "ipython",
    "version": 2
   },
   "file_extension": ".py",
   "mimetype": "text/x-python",
   "name": "python",
   "nbconvert_exporter": "python",
   "pygments_lexer": "ipython2",
   "version": "2.7.14"
  }
 },
 "nbformat": 4,
 "nbformat_minor": 2
}
