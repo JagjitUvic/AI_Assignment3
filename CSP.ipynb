{
 "cells": [
  {
   "cell_type": "code",
   "execution_count": 3,
   "metadata": {},
   "outputs": [],
   "source": [
    "from constraint import *"
   ]
  },
  {
   "cell_type": "code",
   "execution_count": 4,
   "metadata": {},
   "outputs": [
    {
     "data": {
      "text/plain": [
       "[{'E1': 2,\n",
       "  'E10': 3,\n",
       "  'E11': 3,\n",
       "  'E12': 3,\n",
       "  'E13': 3,\n",
       "  'E14': 2,\n",
       "  'E15': 3,\n",
       "  'E2': 0,\n",
       "  'E3': 0,\n",
       "  'E4': 0,\n",
       "  'E5': 0,\n",
       "  'E6': 0,\n",
       "  'E7': 0,\n",
       "  'E8': 2,\n",
       "  'E9': 3},\n",
       " {'E1': 0,\n",
       "  'E10': 3,\n",
       "  'E11': 3,\n",
       "  'E12': 3,\n",
       "  'E13': 3,\n",
       "  'E14': 2,\n",
       "  'E15': 3,\n",
       "  'E2': 2,\n",
       "  'E3': 2,\n",
       "  'E4': 2,\n",
       "  'E5': 2,\n",
       "  'E6': 0,\n",
       "  'E7': 0,\n",
       "  'E8': 0,\n",
       "  'E9': 3},\n",
       " {'E1': 0,\n",
       "  'E10': 3,\n",
       "  'E11': 3,\n",
       "  'E12': 3,\n",
       "  'E13': 3,\n",
       "  'E14': 2,\n",
       "  'E15': 3,\n",
       "  'E2': 0,\n",
       "  'E3': 0,\n",
       "  'E4': 0,\n",
       "  'E5': 0,\n",
       "  'E6': 2,\n",
       "  'E7': 2,\n",
       "  'E8': 0,\n",
       "  'E9': 3},\n",
       " {'E1': 0,\n",
       "  'E10': 3,\n",
       "  'E11': 3,\n",
       "  'E12': 3,\n",
       "  'E13': 3,\n",
       "  'E14': 2,\n",
       "  'E15': 3,\n",
       "  'E2': 0,\n",
       "  'E3': 0,\n",
       "  'E4': 0,\n",
       "  'E5': 0,\n",
       "  'E6': 0,\n",
       "  'E7': 0,\n",
       "  'E8': 0,\n",
       "  'E9': 3}]"
      ]
     },
     "execution_count": 4,
     "metadata": {},
     "output_type": "execute_result"
    }
   ],
   "source": [
    "# import the python constraint after installing the module\n",
    "from constraint import *\n",
    "# problem initialization\n",
    "problem = Problem()\n",
    "# adding the variables with their domain\n",
    "problem.addVariable(\"E1\", [0,1,2,3])\n",
    "problem.addVariable(\"E2\", [0,1,2,3])\n",
    "problem.addVariable(\"E3\", [0,1,2,3])\n",
    "problem.addVariable(\"E4\", [0,1,2,3])\n",
    "problem.addVariable(\"E5\", [0,1,2,3])\n",
    "problem.addVariable(\"E6\", [0,1,2,3])\n",
    "problem.addVariable(\"E7\", [0,1,2,3])\n",
    "problem.addVariable(\"E8\", [0,1,2,3])\n",
    "problem.addVariable(\"E9\", [0,1,2,3])\n",
    "problem.addVariable(\"E10\", [0,1,2,3])\n",
    "problem.addVariable(\"E11\", [0,1,2,3])\n",
    "problem.addVariable(\"E12\", [0,1,2,3])\n",
    "problem.addVariable(\"E13\", [0,1,2,3])\n",
    "problem.addVariable(\"E14\", [0,1,2,3])\n",
    "problem.addVariable(\"E15\", [0,1,2,3])\n",
    "# adding for arrow joint\n",
    "problem.addConstraint(lambda E8,E9,E1: (E8==0 and E9==3 and E1 == 0) or (E8==2 and E9==3 and E1 == 2) or (E8==3 and E9==2 and E1 == 3),(\"E8\", \"E9\", \"E1\"))\n",
    "problem.addConstraint(lambda E2,E10,E3: (E2==0 and E10==3 and E3 == 0) or (E2==2 and E10==3 and E3 == 2) or (E2==3 and E10==2 and E3 == 3),(\"E2\", \"E10\", \"E3\"))\n",
    "problem.addConstraint(lambda E4,E15,E5: (E4==0 and E15==3 and E5 == 0) or (E4==2 and E15==3 and E5 == 2) or (E4==3 and E15==2 and E5 == 3),(\"E4\", \"E15\", \"E5\"))\n",
    "problem.addConstraint(lambda E6,E13,E7: (E6==0 and E13==3 and E7 == 0) or (E6==2 and E13==3 and E7 == 2) or (E6==3 and E13==2 and E7 == 3),(\"E6\", \"E13\", \"E7\"))\n",
    "problem.addConstraint(lambda E12,E14,E11: (E12==0 and E14==3 and E11 == 0) or (E12==2 and E14==3 and E11 == 2) or (E12==3 and E14==2 and E11 == 3),(\"E12\", \"E14\", \"E11\"))\n",
    "# adding for fork joint\n",
    "problem.addConstraint(lambda E4,E3,E14: (E4==0 and E3==0 and E14 == 2) or (E4==2 and E3==0 and E14 == 0) or (E4==0 and E3==2 and E14 == 0) or (E4==3 and E3==3 and E14 == 3) or (E4==2 and E3==2 and E14 == 2),(\"E4\", \"E3\", \"E14\"))\n",
    "problem.addConstraint(lambda E9,E11,E10: (E9==0 and E11==0 and E10 == 2) or (E9==2 and E11==0 and E10 == 0) or (E9==0 and E11==2 and E10 == 0) or (E9==3 and E11==3 and E10 == 3) or (E9==2 and E11==2 and E10 == 2),(\"E9\", \"E11\", \"E10\"))\n",
    "problem.addConstraint(lambda E12,E13,E15: (E12==0 and E13==0 and E15 == 2) or (E12==2 and E13==0 and E15 == 0) or (E12==0 and E13==2 and E15 == 0) or (E12==3 and E13==3 and E15 == 3) or (E12==2 and E13==2 and E15 == 2),(\"E12\", \"E13\", \"E15\"))\n",
    "# adding for l joint\n",
    "problem.addConstraint(lambda E1,E2: (E1==0 and E2==2) or (E1==0 and E2==0) or (E1==2 and E2==0) or (E1==1 and E2==3) or (E1==1 and E2==1) or (E1==3 and E2==1),(\"E1\", \"E2\"))\n",
    "problem.addConstraint(lambda E5,E6: (E5==0 and E6==2) or (E5==0 and E6==0) or (E5==2 and E6==0) or (E5==1 and E6==3) or (E5==1 and E6==1) or (E5==3 and E6==1),(\"E5\", \"E6\"))\n",
    "problem.addConstraint(lambda E7,E8: (E7==0 and E8==2) or (E7==0 and E8==0) or (E7==2 and E8==0) or (E7==1 and E8==3) or (E7==1 and E8==1) or (E7==3 and E8==1),(\"E7\", \"E8\"))\n",
    "# print the solution for the problem\n",
    "problem.getSolutions()"
   ]
  },
  {
   "cell_type": "code",
   "execution_count": null,
   "metadata": {},
   "outputs": [],
   "source": []
  }
 ],
 "metadata": {
  "kernelspec": {
   "display_name": "Python 2",
   "language": "python",
   "name": "python2"
  },
  "language_info": {
   "codemirror_mode": {
    "name": "ipython",
    "version": 2
   },
   "file_extension": ".py",
   "mimetype": "text/x-python",
   "name": "python",
   "nbconvert_exporter": "python",
   "pygments_lexer": "ipython2",
   "version": "2.7.14"
  }
 },
 "nbformat": 4,
 "nbformat_minor": 2
}
